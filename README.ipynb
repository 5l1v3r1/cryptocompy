{
 "cells": [
  {
   "cell_type": "markdown",
   "metadata": {
    "deletable": true,
    "editable": true
   },
   "source": [
    "# cryptocomparepython\n",
    "Simple wrapper for the public CryptoCompare API.\n",
    "\n",
    "Cryptocompare API:\n",
    "https://www.cryptocompare.com/api\n",
    "\n",
    "## Table of Contents\n",
    "\n",
    "* [ToDo](#ToDo)\n",
    "* [Installation](#Installation)\n",
    "* [Code of Conduct](#Code of Conduct)\n",
    "* [Contributing](#Contributing)\n",
    "* [Documentation](#Documentation)\n",
    "    * [coin.py](#coin.py)\n",
    "        * [get_coin_list](#get_coin_list)\n",
    "        * [get_coin_snapshot](#get_coin_snapshot)\n",
    "    * [price.py](#price.py)\n",
    "        * [get_current_price](#get_current_price)\n",
    "        * [get_current_trading_info](#get_current_trading_info)\n",
    "        * [get_day_average_price](#get_day_average_price)\n",
    "    * [mining.py](#mining.py)\n",
    "    * [top.py](#top.py)\n",
    "\n",
    "## ToDo:\n",
    "\n",
    "- add all get functions\n",
    "- complete docstrings\n",
    "- create readme with examples\n",
    "- error handling for http requests\n",
    "- throw warnings for conversions\n",
    "- add toTs parameter to price functions\n",
    "\n",
    "## Installation\n",
    "\n",
    "dsfsdfdsfsdfds\n",
    "sdfsdfdfsdfsdfsdf\n",
    "sdfsdfdsfsdfsdfsdf\n",
    "sfsdfsdfdsfffsdfsdf\n",
    "fdsdfsdfsdfds\n",
    "\n",
    "## Code of Conduct\n",
    "\n",
    "Dont abuse wrapper to spam the Cryptocompare API. A request every 10 seconds should be more than enough.\n",
    "\n",
    "## Contributing\n",
    "\n",
    "If you would like to help me with my work or have any suggestions for improvements please follow the \"fork-and-pull\" Git workflow.\n",
    "\n",
    "1. Fork the repo on GitHub\n",
    "2. Clone the project to your own machine\n",
    "3. Commit changes to your own branch\n",
    "4. Push your work back up to your fork\n",
    "5. Submit a Pull request so that we can review your changes\n",
    "\n",
    "NOTE: Be sure to merge the latest from \"upstream\" before making a pull request!\n",
    "\n",
    "\n",
    "## Documentation\n",
    "\n",
    "### coin.py\n",
    "\n",
    "#### get_coin_list\n",
    "\n",
    "```python\n",
    "get_coin_list(coins='all')\n",
    "```\n",
    "\n",
    "Get general information about all the coins available on cryptocompare.com.\n",
    "\n",
    "*Arguments:*\n",
    "\n",
    "`coins`: Default value of `'all'` returns information about all the coins available on the site. Otherwise a single string or list of coin symbols can be used.\n",
    "\n",
    "*Returns:*\n",
    "\n",
    "The function returns a dictionairy containing individual dictionairies for the coins specified by the input. The key of the top dictionary corresponds to the coin symbol. The dictionary returned has the following structure:\n",
    "\n",
    "```\n",
    "{coin_symbol1: {'Algorithm' : ...,\n",
    "                'CoinName': ...,\n",
    "                'FullName': ...,\n",
    "                'FullyPremined': ...,\n",
    "                'Id': ...,\n",
    "                'ImageUrl': ...,\n",
    "                'Name': ...,\n",
    "                'PreMinedValue': ...,\n",
    "                'ProofType': ...,\n",
    "                'SortOrder': ...,\n",
    "                'TotalCoinsFreeFloat': ...,\n",
    "                'TotalCoinSupply': ...,\n",
    "\t\t\t    'Url': ...},\n",
    " coin_symbol2: {...},\n",
    " ...}\n",
    "```\n",
    "\n",
    "*Example 1:*\n",
    "\n",
    "Get general coin information for Bitcoin and Ethereum."
   ]
  },
  {
   "cell_type": "code",
   "execution_count": 1,
   "metadata": {
    "collapsed": false,
    "deletable": true,
    "editable": true
   },
   "outputs": [
    {
     "data": {
      "text/plain": [
       "{'BTC': {'Algorithm': 'SHA256',\n",
       "  'CoinName': 'Bitcoin',\n",
       "  'FullName': 'Bitcoin (BTC)',\n",
       "  'FullyPremined': '0',\n",
       "  'Id': '1182',\n",
       "  'ImageUrl': '/media/19633/btc.png',\n",
       "  'Name': 'BTC',\n",
       "  'PreMinedValue': 'N/A',\n",
       "  'ProofType': 'PoW',\n",
       "  'SortOrder': '1',\n",
       "  'TotalCoinSupply': '21000000',\n",
       "  'TotalCoinsFreeFloat': 'N/A',\n",
       "  'Url': '/coins/btc/overview'},\n",
       " 'ETH': {'Algorithm': 'Ethash',\n",
       "  'CoinName': 'Ethereum ',\n",
       "  'FullName': 'Ethereum  (ETH)',\n",
       "  'FullyPremined': '0',\n",
       "  'Id': '7605',\n",
       "  'ImageUrl': '/media/20646/eth.png',\n",
       "  'Name': 'ETH',\n",
       "  'PreMinedValue': 'N/A',\n",
       "  'ProofType': 'PoW',\n",
       "  'SortOrder': '2',\n",
       "  'TotalCoinSupply': '0',\n",
       "  'TotalCoinsFreeFloat': 'N/A',\n",
       "  'Url': '/coins/eth/overview'}}"
      ]
     },
     "execution_count": 1,
     "metadata": {},
     "output_type": "execute_result"
    }
   ],
   "source": [
    "from cryptocompy import coin\n",
    "\n",
    "coin_data = coin.get_coin_list(coins=[\"BTC\", \"ETH\"])\n",
    "coin_data"
   ]
  },
  {
   "cell_type": "markdown",
   "metadata": {
    "deletable": true,
    "editable": true
   },
   "source": [
    "*Example 2:*\n",
    "\n",
    "Return information for all the coins available on Cryptocompare and print out ten of their symbols."
   ]
  },
  {
   "cell_type": "code",
   "execution_count": 2,
   "metadata": {
    "collapsed": false,
    "deletable": true,
    "editable": true
   },
   "outputs": [
    {
     "data": {
      "text/plain": [
       "['BAT',\n",
       " 'WEALTH',\n",
       " 'GML',\n",
       " 'PLANET',\n",
       " 'CACH',\n",
       " 'STEEM',\n",
       " 'DCR',\n",
       " 'CRAB',\n",
       " 'CCC',\n",
       " 'NVST']"
      ]
     },
     "execution_count": 2,
     "metadata": {},
     "output_type": "execute_result"
    }
   ],
   "source": [
    "coin_data = coin.get_coin_list()\n",
    "coin_symbols = list(coin_data.keys())[:10]\n",
    "coin_symbols"
   ]
  },
  {
   "cell_type": "markdown",
   "metadata": {
    "collapsed": true,
    "deletable": true,
    "editable": true
   },
   "source": [
    "---\n",
    "\n",
    "#### get_coin_snapshot\n",
    "\n",
    "```python\n",
    "get_coin_snapshot(fsym, tsym)\n",
    "```\n",
    "\n",
    "Get blockchain information, aggregated data as well as data for the individual exchanges available for the specified currency pair.\n",
    "\n",
    "*Arguments:*\n",
    "\n",
    "* `fsym`: FROM symbol.\n",
    "* `tsym`: TO symbol. Blockchain information will only be returned if this parameter is a fiat currency.\n",
    "\n",
    "*Returns:*\n",
    "\n",
    "The function returns a dictionairy containing blockain as well as trading information from the different exchanges were the specified currency pair is available.\n",
    "\n",
    "```\n",
    "{'AggregatedData': dict,\n",
    " 'Algorithm': ...,\n",
    " 'BlockNumber': ...,\n",
    " 'BlockReward': ...,\n",
    " 'Exchanges': [dict1, dict2, ...],\n",
    " 'NetHashesPerSecond': ...,\n",
    " 'ProofType': ...,\n",
    " 'TotalCoinsMined': ...}\n",
    " \n",
    "dict = {'FLAGS': ...,\n",
    "        'FROMSYMBOL': ...,\n",
    "        'HIGH24HOUR': ...,\n",
    "        'LASTMARKET': ...,\n",
    "        'LASTTRADEID': ...,\n",
    "        'LASTUPDATE': ...,\n",
    "        'LASTVOLUME': ...,\n",
    "        'LASTVOLUMETO': ...,\n",
    "        'LOW24HOUR': ...,\n",
    "        'MARKET': ...,\n",
    "        'OPEN24HOUR': ...,\n",
    "        'PRICE': ...,\n",
    "        'TOSYMBOL': ...,\n",
    "        'TYPE': ...,\n",
    "        'VOLUME24HOUR': ...,\n",
    "        'VOLUME24HOURTO': ...}\n",
    "```\n",
    "\n",
    "*Example 1:*\n",
    "\n",
    "Get all the exchanges were the LTC/EUR currency pair is available for trading."
   ]
  },
  {
   "cell_type": "code",
   "execution_count": 3,
   "metadata": {
    "collapsed": false,
    "deletable": true,
    "editable": true,
    "scrolled": false
   },
   "outputs": [
    {
     "data": {
      "text/plain": [
       "['BitSquare',\n",
       " 'Tidex',\n",
       " 'HitBTC',\n",
       " 'Kraken',\n",
       " 'CCEDK',\n",
       " 'Yacuna',\n",
       " 'BTCE',\n",
       " 'TheRockTrading',\n",
       " 'Bitstamp',\n",
       " 'Cexio',\n",
       " 'Exmo',\n",
       " 'BitBay',\n",
       " 'Coinbase']"
      ]
     },
     "execution_count": 3,
     "metadata": {},
     "output_type": "execute_result"
    }
   ],
   "source": [
    "coin_data = coin.get_coin_snapshot(\"LTC\", \"EUR\")\n",
    "exchanges = [e['MARKET'] for e in coin_data['Exchanges']]\n",
    "exchanges"
   ]
  },
  {
   "cell_type": "markdown",
   "metadata": {
    "deletable": true,
    "editable": true
   },
   "source": [
    "*Example 2:*\n",
    "\n",
    "Get the aggregated trading volume across all the available exchanges for the NEO/BTC pair. "
   ]
  },
  {
   "cell_type": "code",
   "execution_count": 4,
   "metadata": {
    "collapsed": false,
    "deletable": true,
    "editable": true
   },
   "outputs": [
    {
     "data": {
      "text/plain": [
       "639060.1425667896"
      ]
     },
     "execution_count": 4,
     "metadata": {},
     "output_type": "execute_result"
    }
   ],
   "source": [
    "coin_data = coin.get_coin_snapshot(\"NEO\", \"BTC\")\n",
    "volume = float(coin_data['AggregatedData']['VOLUME24HOUR'])\n",
    "volume"
   ]
  },
  {
   "cell_type": "markdown",
   "metadata": {
    "collapsed": true,
    "deletable": true,
    "editable": true
   },
   "source": [
    "---\n",
    "\n",
    "### price.py\n",
    "\n",
    "#### get_current_price\n",
    "\n",
    "```python\n",
    "get_current_price(fsyms, tsyms, e='all', try_conversion=True, full=False, format='raw')\n",
    "```\n",
    "\n",
    "Get latest trading price or full trading information in display or raw format for the specified FROM/TO currency pairs.\n",
    "\n",
    "*Arguments:*\n",
    "\n",
    "* `fsyms`: Single string or list of FROM symbols.\n",
    "* `tsyms`: Single string or list of TO symbols.\n",
    "* `e`: Default returns average price across all exchanges. Can be set to the name of a single exchange.\n",
    "* `try_conversion`: If the crypto does not trade directly into the toSymbol requested, BTC will be used for conversion. If set to false, it will try to get values without using any conversion at all.\n",
    "* `full`: Default of False returns only the latest price.\t\n",
    "* `format`: Default returns the 'RAW' format. Can be changed to 'DISPLAY' format.\n",
    "\n",
    "*Returns:*\n",
    "\n",
    "Returns a dictionary containing the latest price pairs if full is set to false:\n",
    "\n",
    "```\n",
    "{fsym1: {tsym1: ..., tsym2:..., ...},\n",
    " fsym2: {...},\n",
    " ...}\n",
    "```\n",
    "\n",
    "or full trading info dictionaries for all the price pairs in the other case:\n",
    "\n",
    "```\n",
    "{fsym1: {tsym1: {'CHANGE24HOUR': ...,\n",
    "                 'CHANGEPCT24HOUR': ...,\n",
    "                 'FLAGS': ...,\n",
    "                 'FROMSYMBOL': ...,\n",
    "                 'HIGH24HOUR': ...,\n",
    "                 'LASTMARKET': ...,\n",
    "                 'LASTTRADEID': ...,\n",
    "                 'LASTUPDATE': ..., \n",
    "                 'LASTVOLUME': ...,\n",
    "                 'LASTVOLUMETO': ...,\n",
    "                 'LOW24HOUR': ...,\n",
    "                 'MARKET' ...,\n",
    "                 'MKTCAP': ...,\n",
    "                 'OPEN24HOUR': ...,\n",
    "                 'PRICE': ...,\n",
    "                 'SUPPLY': ...,\n",
    "                 'TOSYMBOL': ...,\n",
    "                 'TYPE': ..., \n",
    "                 'VOLUME24HOUR': ...,\n",
    "                 'VOLUME24HOURTO': ...},\n",
    "         tsym2: ..., ...},\n",
    "fsym2: {...},\n",
    "...}\n",
    "```\n",
    "\n",
    "*Example 1:*\n",
    "\n",
    "Get the current BTC prices averaged across all exchanges in EUR, USD and ETH."
   ]
  },
  {
   "cell_type": "code",
   "execution_count": 5,
   "metadata": {
    "collapsed": false,
    "deletable": true,
    "editable": true
   },
   "outputs": [
    {
     "data": {
      "text/plain": [
       "{'BTC': {'ETH': 13.73, 'EUR': 3390.43, 'USD': 4012.43}}"
      ]
     },
     "execution_count": 5,
     "metadata": {},
     "output_type": "execute_result"
    }
   ],
   "source": [
    "from cryptocompy import price\n",
    "\n",
    "price_data = price.get_current_price(\"BTC\", [\"EUR\", \"USD\", \"ETH\"])\n",
    "price_data"
   ]
  },
  {
   "cell_type": "markdown",
   "metadata": {
    "deletable": true,
    "editable": true
   },
   "source": [
    "*Example 2:*\n",
    "\n",
    "Get the current BTC and ETH prices in EUR and USD."
   ]
  },
  {
   "cell_type": "code",
   "execution_count": 6,
   "metadata": {
    "collapsed": false,
    "deletable": true,
    "editable": true
   },
   "outputs": [
    {
     "data": {
      "text/plain": [
       "{'BTC': {'EUR': 3390.43, 'USD': 4012.11},\n",
       " 'ETH': {'EUR': 246.57, 'USD': 292.07}}"
      ]
     },
     "execution_count": 6,
     "metadata": {},
     "output_type": "execute_result"
    }
   ],
   "source": [
    "price_data = price.get_current_price([\"ETH\", \"BTC\"], [\"EUR\", \"USD\"])\n",
    "price_data"
   ]
  },
  {
   "cell_type": "markdown",
   "metadata": {
    "deletable": true,
    "editable": true
   },
   "source": [
    "*Example 3:*\n",
    "\n",
    "Get the current ETH trading price in EUR from Kraken. "
   ]
  },
  {
   "cell_type": "code",
   "execution_count": 7,
   "metadata": {
    "collapsed": false,
    "deletable": true,
    "editable": true
   },
   "outputs": [
    {
     "data": {
      "text/plain": [
       "{'ETH': {'EUR': 246.61}}"
      ]
     },
     "execution_count": 7,
     "metadata": {},
     "output_type": "execute_result"
    }
   ],
   "source": [
    "price_data = price.get_current_price(\"ETH\", \"EUR\", e=\"Kraken\")\n",
    "price_data"
   ]
  },
  {
   "cell_type": "markdown",
   "metadata": {
    "deletable": true,
    "editable": true
   },
   "source": [
    "*Example 4:*\n",
    "\n",
    "Get the current trading information about the ETH/EUR and ETH/BTC markets."
   ]
  },
  {
   "cell_type": "code",
   "execution_count": 8,
   "metadata": {
    "collapsed": false,
    "deletable": true,
    "editable": true
   },
   "outputs": [
    {
     "data": {
      "text/plain": [
       "{'ETH': {'BTC': {'CHANGE24HOUR': 0.002939999999999998,\n",
       "   'CHANGEPCT24HOUR': 4.207212364052659,\n",
       "   'FLAGS': '4',\n",
       "   'FROMSYMBOL': 'ETH',\n",
       "   'HIGH24HOUR': 0.07574,\n",
       "   'LASTMARKET': 'Binance',\n",
       "   'LASTTRADEID': 1136090,\n",
       "   'LASTUPDATE': 1505764938,\n",
       "   'LASTVOLUME': 1.236,\n",
       "   'LASTVOLUMETO': 0.089983272,\n",
       "   'LOW24HOUR': 0.06949,\n",
       "   'MARKET': 'CCCAGG',\n",
       "   'MKTCAP': 6895788.618818946,\n",
       "   'OPEN24HOUR': 0.06988,\n",
       "   'PRICE': 0.07282,\n",
       "   'SUPPLY': 94696355.6553,\n",
       "   'TOSYMBOL': 'BTC',\n",
       "   'TYPE': '5',\n",
       "   'VOLUME24HOUR': 444941.48196087003,\n",
       "   'VOLUME24HOURTO': 32447.318580023275},\n",
       "  'EUR': {'CHANGE24HOUR': 26.549999999999983,\n",
       "   'CHANGEPCT24HOUR': 12.067084810471767,\n",
       "   'FLAGS': '4',\n",
       "   'FROMSYMBOL': 'ETH',\n",
       "   'HIGH24HOUR': 252.75,\n",
       "   'LASTMARKET': 'Kraken',\n",
       "   'LASTTRADEID': 1505764916.8202,\n",
       "   'LASTUPDATE': 1505764916,\n",
       "   'LASTVOLUME': 0.06129912,\n",
       "   'LASTVOLUMETO': 15.1169759832,\n",
       "   'LOW24HOUR': 215.26,\n",
       "   'MARKET': 'CCCAGG',\n",
       "   'MKTCAP': 23349280413.927322,\n",
       "   'OPEN24HOUR': 220.02,\n",
       "   'PRICE': 246.57,\n",
       "   'SUPPLY': 94696355.6553,\n",
       "   'TOSYMBOL': 'EUR',\n",
       "   'TYPE': '5',\n",
       "   'VOLUME24HOUR': 170025.47670066005,\n",
       "   'VOLUME24HOURTO': 40814776.80419911}}}"
      ]
     },
     "execution_count": 8,
     "metadata": {},
     "output_type": "execute_result"
    }
   ],
   "source": [
    "price_data = price.get_current_price(\"ETH\", [\"EUR\", \"BTC\"], full=True)\n",
    "price_data"
   ]
  },
  {
   "cell_type": "markdown",
   "metadata": {
    "deletable": true,
    "editable": true
   },
   "source": [
    "*Example 5:*\n",
    "\n",
    "Get the current trading information about the ETH/EUR and ETH/BTC markets in 'DISPLAY' format."
   ]
  },
  {
   "cell_type": "code",
   "execution_count": 9,
   "metadata": {
    "collapsed": false,
    "deletable": true,
    "editable": true
   },
   "outputs": [
    {
     "data": {
      "text/plain": [
       "{'ETH': {'BTC': {'CHANGE24HOUR': 'Ƀ 0.0029',\n",
       "   'CHANGEPCT24HOUR': '4.21',\n",
       "   'FROMSYMBOL': 'Ξ',\n",
       "   'HIGH24HOUR': 'Ƀ 0.07574',\n",
       "   'LASTMARKET': 'Binance',\n",
       "   'LASTTRADEID': 1136090,\n",
       "   'LASTUPDATE': 'Just now',\n",
       "   'LASTVOLUME': 'Ξ 1.24',\n",
       "   'LASTVOLUMETO': 'Ƀ 0.08998',\n",
       "   'LOW24HOUR': 'Ƀ 0.06949',\n",
       "   'MARKET': 'CryptoCompare Index',\n",
       "   'MKTCAP': 'Ƀ 6,895.83 K',\n",
       "   'OPEN24HOUR': 'Ƀ 0.06988',\n",
       "   'PRICE': 'Ƀ 0.07282',\n",
       "   'SUPPLY': 'Ξ 94,696,871',\n",
       "   'TOSYMBOL': 'Ƀ',\n",
       "   'VOLUME24HOUR': 'Ξ 444,941.5',\n",
       "   'VOLUME24HOURTO': 'Ƀ 32,447.3'},\n",
       "  'EUR': {'CHANGE24HOUR': '€ 26.55',\n",
       "   'CHANGEPCT24HOUR': '12.07',\n",
       "   'FROMSYMBOL': 'Ξ',\n",
       "   'HIGH24HOUR': '€ 252.75',\n",
       "   'LASTMARKET': 'Kraken',\n",
       "   'LASTTRADEID': 1505764916.8202,\n",
       "   'LASTUPDATE': 'Just now',\n",
       "   'LASTVOLUME': 'Ξ 0.06130',\n",
       "   'LASTVOLUMETO': '€ 15.12',\n",
       "   'LOW24HOUR': '€ 215.26',\n",
       "   'MARKET': 'CryptoCompare Index',\n",
       "   'MKTCAP': '€ 23.35 B',\n",
       "   'OPEN24HOUR': '€ 220.02',\n",
       "   'PRICE': '€ 246.57',\n",
       "   'SUPPLY': 'Ξ 94,696,871',\n",
       "   'TOSYMBOL': '€',\n",
       "   'VOLUME24HOUR': 'Ξ 170,025.5',\n",
       "   'VOLUME24HOURTO': '€ 40,814,776.8'}}}"
      ]
     },
     "execution_count": 9,
     "metadata": {},
     "output_type": "execute_result"
    }
   ],
   "source": [
    "price_data = price.get_current_price(\"ETH\", [\"EUR\", \"BTC\"], full=True, format=\"display\")\n",
    "price_data"
   ]
  },
  {
   "cell_type": "markdown",
   "metadata": {
    "collapsed": true,
    "deletable": true,
    "editable": true
   },
   "source": [
    "---\n",
    "\n",
    "#### get_current_trading_info\n",
    "\n",
    "```python\n",
    "get_current_trading_info(fsym, tsym, markets='all', try_conversion=True, format='raw)\n",
    "```\n",
    "\n",
    "Get the latest trading info of the requested pair as a volume weighted average across the markets requested.\n",
    "\n",
    "*Arguments:*\n",
    "\n",
    "* `fsym`: FROM symbol.\n",
    "* `tsym`: TO symbol.\n",
    "* `markets`: List containing the market names. Default returns average across all markets. If only a single market is specified, the function will also return the full aggregate.\n",
    "* `try_conversion`: If the crypto does not trade directly into the toSymbol requested, BTC will be used for conversion. If set to false, it will try to get values without using any conversion at all.\n",
    "* `format`: Default returns the 'RAW' format. Can be set to 'DISPLAY' format.\n",
    "\n",
    "*Returns:*\n",
    "\n",
    "The returned latest average trading information dictionary contains the following key value pairs:\n",
    "\n",
    "```\n",
    "{'PRICE': ...,\n",
    "'LASTVOLUMETO': ...,\n",
    "'TOSYMBOL': ...,\n",
    "'LOW24HOUR': ...,\n",
    "'CHANGE24HOUR': ...,\n",
    "'FROMSYMBOL': ...,\n",
    "'FLAGS': ...,\n",
    "'VOLUME24HOUR': ...,\n",
    "'HIGH24HOUR': ...,\n",
    "'LASTUPDATE': ...,\n",
    "'VOLUME24HOURT': ...,\n",
    "'LASTMARKET': ...,\n",
    "'CHANGEPCT24HOUR': ...,\n",
    "'OPEN24HOUR': ...,\n",
    "'MARKET': ...,\n",
    "'LASTTRADEID': ...,\n",
    "'LASTVOLUME': ...}\n",
    "```\n",
    "\n",
    "*Example 1:*\n",
    "\n",
    "Get current trading information about the BTC/USD pair across all markets."
   ]
  },
  {
   "cell_type": "code",
   "execution_count": 10,
   "metadata": {
    "collapsed": false,
    "deletable": true,
    "editable": true
   },
   "outputs": [
    {
     "data": {
      "text/plain": [
       "{'BTC': {'USD': {'CHANGE24HOUR': 292.71000000000004,\n",
       "   'CHANGEPCT24HOUR': 7.869881189556296,\n",
       "   'FLAGS': 0,\n",
       "   'FROMSYMBOL': 'BTC',\n",
       "   'HIGH24HOUR': 4100.52,\n",
       "   'LASTMARKET': 'CCCAGG',\n",
       "   'LASTTRADEID': 21078682,\n",
       "   'LASTUPDATE': 1505764946,\n",
       "   'LASTVOLUME': 1.49e-05,\n",
       "   'LASTVOLUMETO': 0.059828566,\n",
       "   'LOW24HOUR': 3667.71,\n",
       "   'MARKET': 'CUSTOMAGG',\n",
       "   'OPEN24HOUR': 3719.37,\n",
       "   'PRICE': 4012.08,\n",
       "   'TOSYMBOL': 'USD',\n",
       "   'VOLUME24HOUR': 136859.14186894277,\n",
       "   'VOLUME24HOURTO': 539516218.3176087}}}"
      ]
     },
     "execution_count": 10,
     "metadata": {},
     "output_type": "execute_result"
    }
   ],
   "source": [
    "price_data = price.get_current_trading_info(\"BTC\", \"USD\")\n",
    "price_data"
   ]
  },
  {
   "cell_type": "markdown",
   "metadata": {
    "deletable": true,
    "editable": true
   },
   "source": [
    "*Example 2:*\n",
    "\n",
    "Obtain the trading information aggregated for Poloniex, Kraken and Coinbase in display format."
   ]
  },
  {
   "cell_type": "code",
   "execution_count": 11,
   "metadata": {
    "collapsed": false,
    "deletable": true,
    "editable": true
   },
   "outputs": [
    {
     "data": {
      "text/plain": [
       "{'BTC': {'USD': {'CHANGE24HOUR': '$ 274.53',\n",
       "   'CHANGEPCT24HOUR': '7.34',\n",
       "   'FROMSYMBOL': 'Ƀ',\n",
       "   'HIGH24HOUR': '$ 4,135',\n",
       "   'LASTMARKET': 'Poloniex',\n",
       "   'LASTTRADEID': 8712263,\n",
       "   'LASTUPDATE': 'Just now',\n",
       "   'LASTVOLUME': 'Ƀ 0.00001020',\n",
       "   'LASTVOLUMETO': '$ 0.04082',\n",
       "   'LOW24HOUR': '$ 3,654.74',\n",
       "   'MARKET': 'CUSTOMAGG',\n",
       "   'OPEN24HOUR': '$ 3,738.22',\n",
       "   'PRICE': '$ 4,012.75',\n",
       "   'TOSYMBOL': '$',\n",
       "   'VOLUME24HOUR': 'Ƀ 33,194.8',\n",
       "   'VOLUME24HOURTO': '$ 130,693,784.9'}}}"
      ]
     },
     "execution_count": 11,
     "metadata": {},
     "output_type": "execute_result"
    }
   ],
   "source": [
    "price_data = price.get_current_trading_info(\"BTC\", \"USD\", markets=[\"Poloniex\", \"Kraken\", \"Coinbase\"], \n",
    "                                            format='display')\n",
    "price_data"
   ]
  },
  {
   "cell_type": "markdown",
   "metadata": {
    "deletable": true,
    "editable": true
   },
   "source": [
    "---\n",
    "\n",
    "#### get_day_average_price\n",
    "\n",
    "```python\n",
    "get_day_average_price(fsym, tsym, e='all', try_conversion=True, avg_type='HourVWAP', utc_hour_diff=0)\n",
    "```\n",
    "\n",
    "Get the current days average price of a currency pair.\n",
    "\n",
    "*Arguments:*\n",
    "\n",
    "* `fsym`: FROM symbol.\n",
    "* `tsym`: TO symbol.\n",
    "* `e`: Default returns average price across all exchanges. Can be set to the name of a single exchange.\n",
    "* `try_conversion`: If the crypto does not trade directly into the toSymbol requested, BTC will be used for conversion. If set to false, it will try to get values without using any conversion at all.\n",
    "* `avg_type`: 'HourVWAP' returns a volume weighted average of the hourly close price. The other option 'MidHighLow' gives the average between the 24 hour high and low.\n",
    "* `utc_hour_diff`: Pass hour difference to UTC for different time zone.\n",
    "\n",
    "*Returns:*\n",
    "\n",
    "Returns a price dictionairy containing the current days average price as float.\n",
    "\n",
    "```\n",
    "{fsym: {tsym: price}}\n",
    "```\n",
    "\n",
    "*Example 1:*\n",
    "\n",
    "Get the current days ETH/EUR average price across all exchanges."
   ]
  },
  {
   "cell_type": "code",
   "execution_count": 12,
   "metadata": {
    "collapsed": false,
    "deletable": true,
    "editable": true
   },
   "outputs": [
    {
     "data": {
      "text/plain": [
       "{'ETH': {'EUR': 242.6}}"
      ]
     },
     "execution_count": 12,
     "metadata": {},
     "output_type": "execute_result"
    }
   ],
   "source": [
    "price_data = price.get_day_average_price(\"ETH\", \"EUR\")\n",
    "price_data"
   ]
  },
  {
   "cell_type": "markdown",
   "metadata": {
    "deletable": true,
    "editable": true
   },
   "source": [
    "*Example 2:*\n",
    "\n",
    "Get the MidHighLow price for the DGB/XLM pair in the UTC-8 time zone. "
   ]
  },
  {
   "cell_type": "code",
   "execution_count": 13,
   "metadata": {
    "collapsed": false,
    "deletable": true,
    "editable": true
   },
   "outputs": [
    {
     "data": {
      "text/plain": [
       "{'DGB': {'XLM': 1.13}}"
      ]
     },
     "execution_count": 13,
     "metadata": {},
     "output_type": "execute_result"
    }
   ],
   "source": [
    "price_data = price.get_day_average_price(\"DGB\", \"XLM\", avg_type=\"MidHighLow\", utc_hour_diff=-8)\n",
    "price_data"
   ]
  },
  {
   "cell_type": "markdown",
   "metadata": {
    "deletable": true,
    "editable": true
   },
   "source": [
    "---\n",
    "\n",
    "#### get_historical_eod_price\n",
    "\n",
    "```python\n",
    "get_historical_eod_price(fsym, tsyms, date, e='all', try_conversion=True)\n",
    "```\n",
    "\n",
    "Get end of day price for cryptocurrency in any other currency for the requested timestamp.\n",
    "\n",
    "*Arguments:*\n",
    "\n",
    "* `fsym`: FROM symbol.\n",
    "* `tsyms`: Single string or list of TO symbols.\n",
    "* `date`: Date as string with these formats: \"Y-m-d\", \"Y-m-d H-M-S\".Date as string with this format: \"Y-m-d H-M-S\".\n",
    "* `e`: Default returns average price across all exchanges. Can be set to the name of a single exchange.\n",
    "* `try_conversion`: If the crypto does not trade directly into the toSymbol requested, BTC will be used for conversion. If set to false, it will try to get values without using any conversion at all.\n",
    "\n",
    "*Returns:*\n",
    "\n",
    "Returns a dictionary containing the end of day price pairs for the provided date.\n",
    "\n",
    "```\n",
    "{fsym: {tsym1: ..., tsym2: ..., ...}}\n",
    "```\n",
    "\n",
    "*Example 1:*\n",
    "\n",
    "Get the end of day price from April 20, 2017 for DASH in USD."
   ]
  },
  {
   "cell_type": "code",
   "execution_count": 14,
   "metadata": {
    "collapsed": false,
    "deletable": true,
    "editable": true
   },
   "outputs": [
    {
     "data": {
      "text/plain": [
       "{'DASH': {'USD': 72.34}}"
      ]
     },
     "execution_count": 14,
     "metadata": {},
     "output_type": "execute_result"
    }
   ],
   "source": [
    "price_data = price.get_historical_eod_price(\"DASH\", \"USD\", \"2017-04-20 00:00:00\")\n",
    "price_data"
   ]
  },
  {
   "cell_type": "markdown",
   "metadata": {
    "deletable": true,
    "editable": true
   },
   "source": [
    "*Example 2:*\n",
    "\n",
    "Obtain the end of day price of LTC in BTC and EUR from Kraken on the 23rd of July in 2017."
   ]
  },
  {
   "cell_type": "code",
   "execution_count": 15,
   "metadata": {
    "collapsed": false,
    "deletable": true,
    "editable": true
   },
   "outputs": [
    {
     "data": {
      "text/plain": [
       "{'LTC': {'BTC': 0.0165, 'EUR': 40.03}}"
      ]
     },
     "execution_count": 15,
     "metadata": {},
     "output_type": "execute_result"
    }
   ],
   "source": [
    "price_data = price.get_historical_eod_price(\"LTC\", [\"BTC\", \"EUR\"], \"2017-07-23\", e=\"Kraken\")\n",
    "price_data"
   ]
  },
  {
   "cell_type": "markdown",
   "metadata": {
    "deletable": true,
    "editable": true
   },
   "source": [
    "---\n",
    "\n",
    "#### get_historical_data\n",
    "\n",
    "```python\n",
    "get_historical_data(fsym, tsym, freq, info='full', e='all', try_conversion=True, aggregate=1, \n",
    "                    limit=1440, to_ts=False)\n",
    "```\n",
    "\n",
    "Get minute-by-minute historical price and volume information for the requested currency pair. Available data is limited to the last 7 days.\n",
    "\n",
    "*Arguments:*\n",
    "\n",
    "* `fsym`: FROM symbol.\n",
    "* `tsym`: TO symbol.\n",
    "* `info`: Select price or volume information to return. Default of 'full' returns all of them. Can be set to 'high', 'low', 'open', 'close', 'volumefrom', and 'volumeto' or a list containing several of those values.\n",
    "* `e`: Default returns average price across all exchanges. Can be set to the name of a single exchange.\n",
    "* `try_conversion`: If the crypto does not trade directly into the toSymbol requested, BTC will be used for conversion. If set to false, it will try to get values without using any conversion at all.\n",
    "* `aggregate`: Aggregates the minute prices into bins of the specified size.\n",
    "* `limit`: Number of minute prices. The limit settings depend on the freq selected. Using aggregate reduces the maximum number of points that can be returned by a factor equal to the chosen bin size.\n",
    "               minute: default = 1440, min = 1, max = 2000\n",
    "               hour: default = 168, min = 1, max 2000\n",
    "               day: default = 30, min = 1, max 2000\t\n",
    "\n",
    "*Returns:*\n",
    "\n",
    "List of dictionairies containing the price and volume information for each requested tick.\n",
    "\n",
    "```\n",
    "[{'time': ..., 'close': ..., 'high': ..., 'low': ..., 'open': ...,\n",
    "  'volumefrom': ..., 'volumeto': ...},\n",
    "  {...},\n",
    " ...]\n",
    "```\n",
    "\n",
    "*Example 1:*\n",
    "\n",
    "Get full price and volume data for the last five 5-minute segments."
   ]
  },
  {
   "cell_type": "code",
   "execution_count": 16,
   "metadata": {
    "collapsed": false,
    "deletable": true,
    "editable": true,
    "scrolled": false
   },
   "outputs": [
    {
     "data": {
      "text/plain": [
       "[{'close': 4000.13,\n",
       "  'high': 4005.94,\n",
       "  'low': 3998.02,\n",
       "  'open': 4003.43,\n",
       "  'time': '2017-09-18 21:35:00',\n",
       "  'volumefrom': 256.3,\n",
       "  'volumeto': 1025563.77},\n",
       " {'close': 3996.59,\n",
       "  'high': 4000.14,\n",
       "  'low': 3990.96,\n",
       "  'open': 4000.13,\n",
       "  'time': '2017-09-18 21:40:00',\n",
       "  'volumefrom': 229.67000000000002,\n",
       "  'volumeto': 916935.5399999999},\n",
       " {'close': 4004.6,\n",
       "  'high': 4004.92,\n",
       "  'low': 3995.09,\n",
       "  'open': 3996.59,\n",
       "  'time': '2017-09-18 21:45:00',\n",
       "  'volumefrom': 224.72,\n",
       "  'volumeto': 898249.9400000001},\n",
       " {'close': 4011.07,\n",
       "  'high': 4011.79,\n",
       "  'low': 4003.43,\n",
       "  'open': 4004.6,\n",
       "  'time': '2017-09-18 21:50:00',\n",
       "  'volumefrom': 267.78999999999996,\n",
       "  'volumeto': 1071178.17},\n",
       " {'close': 4023.46,\n",
       "  'high': 4025.98,\n",
       "  'low': 4011.07,\n",
       "  'open': 4011.07,\n",
       "  'time': '2017-09-18 21:55:00',\n",
       "  'volumefrom': 382.77,\n",
       "  'volumeto': 1535682.04},\n",
       " {'close': 4012.24,\n",
       "  'high': 4024.04,\n",
       "  'low': 4010.38,\n",
       "  'open': 4023.46,\n",
       "  'time': '2017-09-18 22:00:00',\n",
       "  'volumefrom': 377.92,\n",
       "  'volumeto': 1507696.72}]"
      ]
     },
     "execution_count": 16,
     "metadata": {},
     "output_type": "execute_result"
    }
   ],
   "source": [
    "price_data = price.get_historical_data('BTC', 'USD', 'minute', aggregate=5, limit=5)\n",
    "price_data"
   ]
  },
  {
   "cell_type": "markdown",
   "metadata": {
    "deletable": true,
    "editable": true
   },
   "source": [
    "*Example 2:*\n",
    "\n",
    "Get the ETH/USD trading volume in ETH for the last ten minutes."
   ]
  },
  {
   "cell_type": "code",
   "execution_count": 17,
   "metadata": {
    "collapsed": false,
    "deletable": true,
    "editable": true
   },
   "outputs": [
    {
     "data": {
      "text/plain": [
       "[{'time': '2017-09-18 21:53:00', 'volumefrom': 890.53},\n",
       " {'time': '2017-09-18 21:54:00', 'volumefrom': 255.69},\n",
       " {'time': '2017-09-18 21:55:00', 'volumefrom': 366.85},\n",
       " {'time': '2017-09-18 21:56:00', 'volumefrom': 139.25},\n",
       " {'time': '2017-09-18 21:57:00', 'volumefrom': 347.04},\n",
       " {'time': '2017-09-18 21:58:00', 'volumefrom': 552.24},\n",
       " {'time': '2017-09-18 21:59:00', 'volumefrom': 127.48},\n",
       " {'time': '2017-09-18 22:00:00', 'volumefrom': 1249.87},\n",
       " {'time': '2017-09-18 22:01:00', 'volumefrom': 370.06},\n",
       " {'time': '2017-09-18 22:02:00', 'volumefrom': 174.09},\n",
       " {'time': '2017-09-18 22:03:00', 'volumefrom': 0}]"
      ]
     },
     "execution_count": 17,
     "metadata": {},
     "output_type": "execute_result"
    }
   ],
   "source": [
    "price_data = price.get_historical_data('ETH', 'USD', 'minute', info='volumefrom', aggregate=1, \n",
    "                                               limit=10)\n",
    "price_data"
   ]
  },
  {
   "cell_type": "markdown",
   "metadata": {
    "deletable": true,
    "editable": true
   },
   "source": [
    "*Example 3:*\n",
    "\n",
    "Get the XRP closing prices in USD for the last ten days."
   ]
  },
  {
   "cell_type": "code",
   "execution_count": 18,
   "metadata": {
    "collapsed": false,
    "deletable": true,
    "editable": true
   },
   "outputs": [
    {
     "data": {
      "text/plain": [
       "[{'close': 0.2122, 'time': '2017-09-08 02:00:00'},\n",
       " {'close': 0.213, 'time': '2017-09-09 02:00:00'},\n",
       " {'close': 0.2173, 'time': '2017-09-10 02:00:00'},\n",
       " {'close': 0.2143, 'time': '2017-09-11 02:00:00'},\n",
       " {'close': 0.2095, 'time': '2017-09-12 02:00:00'},\n",
       " {'close': 0.1983, 'time': '2017-09-13 02:00:00'},\n",
       " {'close': 0.1711, 'time': '2017-09-14 02:00:00'},\n",
       " {'close': 0.1846, 'time': '2017-09-15 02:00:00'},\n",
       " {'close': 0.1828, 'time': '2017-09-16 02:00:00'},\n",
       " {'close': 0.1814, 'time': '2017-09-17 02:00:00'},\n",
       " {'close': 0.191, 'time': '2017-09-18 02:00:00'}]"
      ]
     },
     "execution_count": 18,
     "metadata": {},
     "output_type": "execute_result"
    }
   ],
   "source": [
    "price_data = price.get_historical_data('XRP', 'USD', 'day', info='close', aggregate=1, \n",
    "                                               limit=10)\n",
    "price_data"
   ]
  },
  {
   "cell_type": "markdown",
   "metadata": {
    "collapsed": true,
    "deletable": true,
    "editable": true
   },
   "source": [
    "#### mining.py\n",
    "* get_mining_equipment()\n",
    "\n",
    "#### rest.py\n",
    "* AllExchanges() (unfinished)\n",
    "\n",
    "#### top.py\n",
    "* get_top_exchanges_by_volume(fsym, tsym, limit=5)\n",
    "* get_top_coins_by_volume(tsym, limit=20)\n",
    "* get_top_pairs_by_volume(fsym, limit=5)"
   ]
  }
 ],
 "metadata": {
  "kernelspec": {
   "display_name": "Python 3",
   "language": "python",
   "name": "python3"
  },
  "language_info": {
   "codemirror_mode": {
    "name": "ipython",
    "version": 3
   },
   "file_extension": ".py",
   "mimetype": "text/x-python",
   "name": "python",
   "nbconvert_exporter": "python",
   "pygments_lexer": "ipython3",
   "version": "3.5.2"
  }
 },
 "nbformat": 4,
 "nbformat_minor": 2
}
