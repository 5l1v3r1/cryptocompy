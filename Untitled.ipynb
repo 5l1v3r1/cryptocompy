{
 "cells": [
  {
   "cell_type": "markdown",
   "metadata": {
    "deletable": true,
    "editable": true
   },
   "source": [
    "# cryptocomparepython\n",
    "Simple wrapper for the public CryptoCompare API.\n",
    "\n",
    "Cryptocompare API:\n",
    "https://www.cryptocompare.com/api\n",
    "\n",
    "\n",
    "## ToDo:\n",
    "\n",
    "- add all get functions\n",
    "- complete docstrings\n",
    "- create readme with examples\n",
    "- error handling for http requests\n",
    "- throw warnings for conversions\n",
    "\n",
    "## Installation\n",
    "\n",
    "dsfsdfdsfsdfds\n",
    "sdfsdfdfsdfsdfsdf\n",
    "sdfsdfdsfsdfsdfsdf\n",
    "sfsdfsdfdsfffsdfsdf\n",
    "fdsdfsdfsdfds\n",
    "\n",
    "## Contributing\n",
    "\n",
    "If you would like to help me with my work or have any suggestions for improvements please follow the \"fork-and-pull\" Git workflow.\n",
    "\n",
    "1. Fork the repo on GitHub\n",
    "2. Clone the project to your own machine\n",
    "3. Commit changes to your own branch\n",
    "4. Push your work back up to your fork\n",
    "5. Submit a Pull request so that we can review your changes\n",
    "\n",
    "NOTE: Be sure to merge the latest from \"upstream\" before making a pull request!\n",
    "\n",
    "\n",
    "## Functions\n",
    "\n",
    "### coin.py\n",
    "\n",
    "#### get_coin_list(coins='all')\n",
    "\n",
    "Get general information about all the coins available on cryptocompare.com.\n",
    "\n",
    "*Arguments:*\n",
    "\n",
    "`coins`: Default value of `'all'` returns information about all the coins available on the site. Otherwise a single string or list of coin symbols can be used.\n",
    "\n",
    "*Returns:*\n",
    "\n",
    "The function returns a dictionairy containing individual dictionairies for the coins specified by the input. The key of the top dictionary corresponds to the coin symbol. The dictionary returned has the following structure:\n",
    "\n",
    "```\n",
    "{coin_symbol1: {'Algorithm' : ...,\n",
    "                'CoinName': ...,\n",
    "                'FullName': ...,\n",
    "                'FullyPremined': ...,\n",
    "                'Id': ...,\n",
    "                'ImageUrl': ...,\n",
    "                'Name': ...,\n",
    "                'PreMinedValue': ...,\n",
    "                'ProofType': ...,\n",
    "                'SortOrder': ...,\n",
    "                'TotalCoinsFreeFloat': ...,\n",
    "                'TotalCoinSupply': ...,\n",
    "\t\t\t    'Url': ...},\n",
    " coin_symbol2: {...},\n",
    " ...}\n",
    "```\n",
    "\n",
    "*Example 1:*\n",
    "\n",
    "Get general coin information for Bitcoin and Ethereum."
   ]
  },
  {
   "cell_type": "code",
   "execution_count": 1,
   "metadata": {
    "collapsed": false,
    "deletable": true,
    "editable": true
   },
   "outputs": [
    {
     "data": {
      "text/plain": [
       "{'BTC': {'Algorithm': 'SHA256',\n",
       "  'CoinName': 'Bitcoin',\n",
       "  'FullName': 'Bitcoin (BTC)',\n",
       "  'FullyPremined': '0',\n",
       "  'Id': '1182',\n",
       "  'ImageUrl': '/media/19633/btc.png',\n",
       "  'Name': 'BTC',\n",
       "  'PreMinedValue': 'N/A',\n",
       "  'ProofType': 'PoW',\n",
       "  'SortOrder': '1',\n",
       "  'TotalCoinSupply': '21000000',\n",
       "  'TotalCoinsFreeFloat': 'N/A',\n",
       "  'Url': '/coins/btc/overview'},\n",
       " 'ETH': {'Algorithm': 'Ethash',\n",
       "  'CoinName': 'Ethereum ',\n",
       "  'FullName': 'Ethereum  (ETH)',\n",
       "  'FullyPremined': '0',\n",
       "  'Id': '7605',\n",
       "  'ImageUrl': '/media/20646/eth.png',\n",
       "  'Name': 'ETH',\n",
       "  'PreMinedValue': 'N/A',\n",
       "  'ProofType': 'PoW',\n",
       "  'SortOrder': '2',\n",
       "  'TotalCoinSupply': '0',\n",
       "  'TotalCoinsFreeFloat': 'N/A',\n",
       "  'Url': '/coins/eth/overview'}}"
      ]
     },
     "execution_count": 1,
     "metadata": {},
     "output_type": "execute_result"
    }
   ],
   "source": [
    "from cryptocomparepython import coin\n",
    "\n",
    "coin_data = coin.get_coin_list(coins=[\"BTC\", \"ETH\"])\n",
    "coin_data"
   ]
  },
  {
   "cell_type": "markdown",
   "metadata": {
    "deletable": true,
    "editable": true
   },
   "source": [
    "*Example 2:*\n",
    "\n",
    "Return information for all the coins available on Cryptocompare and print out ten of their symbols."
   ]
  },
  {
   "cell_type": "code",
   "execution_count": 2,
   "metadata": {
    "collapsed": false,
    "deletable": true,
    "editable": true
   },
   "outputs": [
    {
     "data": {
      "text/plain": [
       "['TAGR', 'MTX', 'LC', 'CHA', 'TRUMP', 'KORE', 'MYB', 'ELC', 'KGC', 'EQM']"
      ]
     },
     "execution_count": 2,
     "metadata": {},
     "output_type": "execute_result"
    }
   ],
   "source": [
    "coin_data = coin.get_coin_list()\n",
    "coin_symbols = list(coin_data.keys())[:10]\n",
    "coin_symbols"
   ]
  },
  {
   "cell_type": "markdown",
   "metadata": {
    "collapsed": true,
    "deletable": true,
    "editable": true
   },
   "source": [
    "#### get_coin_snapshot(fsym, tsym)\n",
    "\n",
    "Get blockchain information, aggregated data as well as data for the individual exchanges available for the specified currency pair.\n",
    "\n",
    "*Arguments:*\n",
    "\n",
    "`fsym`: FROM symbol.\n",
    "`tsym`: TO symbol. Blockchain information will only be returned if this parameter is a fiat currency.\n",
    "\n",
    "*Returns:*\n",
    "\n",
    "The function returns a dictionairy containing blockain as well as trading information from the different exchanges were the specified currency pair is available.\n",
    "\n",
    "```\n",
    "{'AggregatedData': dict,\n",
    " 'Algorithm': ...,\n",
    " 'BlockNumber': ...,\n",
    " 'BlockReward': ...,\n",
    " 'Exchanges': [dict1, dict2, ...],\n",
    " 'NetHashesPerSecond': ...,\n",
    " 'ProofType': ...,\n",
    " 'TotalCoinsMined': ...}\n",
    " \n",
    "dict = {'FLAGS': ...,\n",
    "        'FROMSYMBOL': ...,\n",
    "        'HIGH24HOUR': ...,\n",
    "        'LASTMARKET': ...,\n",
    "        'LASTTRADEID': ...,\n",
    "        'LASTUPDATE': ...,\n",
    "        'LASTVOLUME': ...,\n",
    "        'LASTVOLUMETO': ...,\n",
    "        'LOW24HOUR': ...,\n",
    "        'MARKET': ...,\n",
    "        'OPEN24HOUR': ...,\n",
    "        'PRICE': ...,\n",
    "        'TOSYMBOL': ...,\n",
    "        'TYPE': ...,\n",
    "        'VOLUME24HOUR': ...,\n",
    "        'VOLUME24HOURTO': ...}\n",
    "```\n",
    "\n",
    "*Example 1:*\n",
    "\n",
    "Get all the exchanges were the LTC/EUR currency pair is available for trading."
   ]
  },
  {
   "cell_type": "code",
   "execution_count": 3,
   "metadata": {
    "collapsed": false,
    "deletable": true,
    "editable": true,
    "scrolled": false
   },
   "outputs": [
    {
     "data": {
      "text/plain": [
       "['BitSquare',\n",
       " 'Tidex',\n",
       " 'HitBTC',\n",
       " 'Kraken',\n",
       " 'CCEDK',\n",
       " 'Yacuna',\n",
       " 'BTCE',\n",
       " 'TheRockTrading',\n",
       " 'Bitstamp',\n",
       " 'Cexio',\n",
       " 'Exmo',\n",
       " 'BitBay',\n",
       " 'Coinbase']"
      ]
     },
     "execution_count": 3,
     "metadata": {},
     "output_type": "execute_result"
    }
   ],
   "source": [
    "coin_data = coin.get_coin_snapshot(\"LTC\", \"EUR\")\n",
    "exchanges = [e['MARKET'] for e in coin_data['Exchanges']]\n",
    "exchanges"
   ]
  },
  {
   "cell_type": "markdown",
   "metadata": {},
   "source": [
    "*Example 2:*\n",
    "\n",
    "Get the aggregated trading volume across all the available exchanges for the NEO/BTC pair. "
   ]
  },
  {
   "cell_type": "code",
   "execution_count": 4,
   "metadata": {
    "collapsed": false,
    "deletable": true,
    "editable": true
   },
   "outputs": [
    {
     "data": {
      "text/plain": [
       "659973.6200995498"
      ]
     },
     "execution_count": 4,
     "metadata": {},
     "output_type": "execute_result"
    }
   ],
   "source": [
    "coin_data = coin.get_coin_snapshot(\"NEO\", \"BTC\")\n",
    "volume = float(coin_data['AggregatedData']['VOLUME24HOUR'])\n",
    "volume"
   ]
  },
  {
   "cell_type": "markdown",
   "metadata": {
    "collapsed": true,
    "deletable": true,
    "editable": true
   },
   "source": [
    "#### price.py\n",
    "* get_current_price(fsyms, tsyms, e='all', try_conversion=True, full=False, format='raw')\n",
    "* get_current_trading_info(fsym, tsym, markets='all', try_conversion=True, format='raw)\n",
    "* get_day_average_price(fsym, tsym, e='all', try_conversion=True, avg_type='HourVWAP, utc_hour_diff=0)\n",
    "* get_historical_eod_price(fsym, tsyms, ts, e='all', try_conversion=True)\n",
    "* get_historical_minute_price(fsym, tsym, price='full', e='all', try_conversion=True, aggregate=1, limit=1440, to_ts=False)\n",
    "* get_historical_hour_price(fsym, tsym, e='all', try_conversion=True, aggregate=1, limit=168, to_ts=False)\n",
    "* get_historical_day_price(fsym, tsym, e='all', try_conversion=True, aggregate=1, limit=30, to_ts=False)\n",
    "\n",
    "#### mining.py\n",
    "* get_mining_equipment()\n",
    "\n",
    "#### rest.py\n",
    "* AllExchanges() (unfinished)\n",
    "\n",
    "#### top.py\n",
    "* get_top_exchanges_by_volume(fsym, tsym, limit=5)\n",
    "* get_top_coins_by_volume(tsym, limit=20)\n",
    "* get_top_pairs_by_volume(fsym, limit=5)"
   ]
  },
  {
   "cell_type": "code",
   "execution_count": null,
   "metadata": {
    "collapsed": true,
    "deletable": true,
    "editable": true
   },
   "outputs": [],
   "source": []
  },
  {
   "cell_type": "code",
   "execution_count": null,
   "metadata": {
    "collapsed": true,
    "deletable": true,
    "editable": true
   },
   "outputs": [],
   "source": []
  },
  {
   "cell_type": "code",
   "execution_count": null,
   "metadata": {
    "collapsed": true,
    "deletable": true,
    "editable": true
   },
   "outputs": [],
   "source": []
  }
 ],
 "metadata": {
  "kernelspec": {
   "display_name": "Python 3",
   "language": "python",
   "name": "python3"
  },
  "language_info": {
   "codemirror_mode": {
    "name": "ipython",
    "version": 3
   },
   "file_extension": ".py",
   "mimetype": "text/x-python",
   "name": "python",
   "nbconvert_exporter": "python",
   "pygments_lexer": "ipython3",
   "version": "3.5.2"
  }
 },
 "nbformat": 4,
 "nbformat_minor": 2
}
