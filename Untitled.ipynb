{
 "cells": [
  {
   "cell_type": "markdown",
   "metadata": {
    "deletable": true,
    "editable": true
   },
   "source": [
    "# cryptocompare-python\n",
    "Simple wrapper for the public CryptoCompare API.\n",
    "\n",
    "Cryptocompare API:\n",
    "https://www.cryptocompare.com/api\n",
    "\n",
    "To do:\n",
    "- add all get functions\n",
    "- complete docstrings\n",
    "- create readme with examples\n",
    "- error handling for http requests\n",
    "- throw warnings for conversions\n",
    "\n",
    "\n",
    "## Functions\n",
    "\n",
    "### coin.py\n",
    "\n",
    "#### get_coin_list(coins='all')\n",
    "\n"
   ]
  },
  {
   "cell_type": "code",
   "execution_count": 5,
   "metadata": {
    "collapsed": false,
    "deletable": true,
    "editable": true
   },
   "outputs": [
    {
     "name": "stdout",
     "output_type": "stream",
     "text": [
      "{'BTC': {'Algorithm': 'SHA256', 'PreMinedValue': 'N/A', 'TotalCoinsFreeFloat': 'N/A', 'ImageUrl': '/media/19633/btc.png', 'Name': 'BTC', 'CoinName': 'Bitcoin', 'Url': '/coins/btc/overview', 'FullName': 'Bitcoin (BTC)', 'ProofType': 'PoW', 'TotalCoinSupply': '21000000', 'SortOrder': '1', 'FullyPremined': '0', 'Id': '1182'}, 'ETH': {'Algorithm': 'Ethash', 'PreMinedValue': 'N/A', 'TotalCoinsFreeFloat': 'N/A', 'ImageUrl': '/media/20646/eth.png', 'Name': 'ETH', 'CoinName': 'Ethereum ', 'Url': '/coins/eth/overview', 'FullName': 'Ethereum  (ETH)', 'ProofType': 'PoW', 'TotalCoinSupply': '0', 'SortOrder': '2', 'FullyPremined': '0', 'Id': '7605'}}\n",
      "\n"
     ]
    }
   ],
   "source": [
    "from cryptocomparepython import coin\n",
    "\n",
    "coin_data = coin.get_coin_list(coins=[\"BTC\", \"ETH\"])\n",
    "print(coin_data)\n",
    "print()"
   ]
  },
  {
   "cell_type": "markdown",
   "metadata": {},
   "source": []
  },
  {
   "cell_type": "code",
   "execution_count": 6,
   "metadata": {
    "collapsed": false
   },
   "outputs": [
    {
     "name": "stdout",
     "output_type": "stream",
     "text": [
      "['CVC', 'BRO', 'PBKX', 'HEAT', 'RIDE', 'PPT', 'CTR', 'PCM', 'PXL', 'VNT']\n"
     ]
    }
   ],
   "source": [
    "coin_data = coin.get_coin_list()\n",
    "print(list(coin_data.keys())[:10])"
   ]
  },
  {
   "cell_type": "markdown",
   "metadata": {
    "collapsed": true,
    "deletable": true,
    "editable": true
   },
   "source": [
    "* get_coin_snapshot(fsym, tsym)"
   ]
  },
  {
   "cell_type": "code",
   "execution_count": null,
   "metadata": {
    "collapsed": true
   },
   "outputs": [],
   "source": []
  },
  {
   "cell_type": "code",
   "execution_count": null,
   "metadata": {
    "collapsed": true,
    "deletable": true,
    "editable": true
   },
   "outputs": [],
   "source": []
  },
  {
   "cell_type": "markdown",
   "metadata": {
    "collapsed": true,
    "deletable": true,
    "editable": true
   },
   "source": [
    "#### price.py\n",
    "* get_current_price(fsyms, tsyms, e='all', try_conversion=True, full=False, format='raw')\n",
    "* get_current_trading_info(fsym, tsym, markets='all', try_conversion=True, format='raw)\n",
    "* get_day_average_price(fsym, tsym, e='all', try_conversion=True, avg_type='HourVWAP, utc_hour_diff=0)\n",
    "* get_historical_eod_price(fsym, tsyms, ts, e='all', try_conversion=True)\n",
    "* get_historical_minute_price(fsym, tsym, price='full', e='all', try_conversion=True, aggregate=1, limit=1440, to_ts=False)\n",
    "* get_historical_hour_price(fsym, tsym, e='all', try_conversion=True, aggregate=1, limit=168, to_ts=False)\n",
    "* get_historical_day_price(fsym, tsym, e='all', try_conversion=True, aggregate=1, limit=30, to_ts=False)\n",
    "\n",
    "#### mining.py\n",
    "* get_mining_equipment()\n",
    "\n",
    "#### rest.py\n",
    "* AllExchanges() (unfinished)\n",
    "\n",
    "#### top.py\n",
    "* get_top_exchanges_by_volume(fsym, tsym, limit=5)\n",
    "* get_top_coins_by_volume(tsym, limit=20)\n",
    "* get_top_pairs_by_volume(fsym, limit=5)"
   ]
  },
  {
   "cell_type": "code",
   "execution_count": null,
   "metadata": {
    "collapsed": true,
    "deletable": true,
    "editable": true
   },
   "outputs": [],
   "source": []
  },
  {
   "cell_type": "code",
   "execution_count": null,
   "metadata": {
    "collapsed": true,
    "deletable": true,
    "editable": true
   },
   "outputs": [],
   "source": []
  },
  {
   "cell_type": "code",
   "execution_count": null,
   "metadata": {
    "collapsed": true,
    "deletable": true,
    "editable": true
   },
   "outputs": [],
   "source": []
  }
 ],
 "metadata": {
  "kernelspec": {
   "display_name": "Python 3",
   "language": "python",
   "name": "python3"
  },
  "language_info": {
   "codemirror_mode": {
    "name": "ipython",
    "version": 3
   },
   "file_extension": ".py",
   "mimetype": "text/x-python",
   "name": "python",
   "nbconvert_exporter": "python",
   "pygments_lexer": "ipython3",
   "version": "3.5.2"
  }
 },
 "nbformat": 4,
 "nbformat_minor": 2
}
